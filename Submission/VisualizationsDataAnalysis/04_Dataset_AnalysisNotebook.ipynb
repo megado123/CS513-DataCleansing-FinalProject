{
 "cells": [
  {
   "cell_type": "code",
   "execution_count": 1,
   "id": "8bfc84b7",
   "metadata": {},
   "outputs": [
    {
     "ename": "ModuleNotFoundError",
     "evalue": "No module named 'pyodbc'",
     "output_type": "error",
     "traceback": [
      "\u001b[0;31m---------------------------------------------------------------------------\u001b[0m",
      "\u001b[0;31mModuleNotFoundError\u001b[0m                       Traceback (most recent call last)",
      "\u001b[0;32m<ipython-input-1-0e97648c02ab>\u001b[0m in \u001b[0;36m<module>\u001b[0;34m\u001b[0m\n\u001b[0;32m----> 1\u001b[0;31m \u001b[0;32mimport\u001b[0m \u001b[0mpyodbc\u001b[0m\u001b[0;34m\u001b[0m\u001b[0;34m\u001b[0m\u001b[0m\n\u001b[0m\u001b[1;32m      2\u001b[0m \u001b[0;32mimport\u001b[0m \u001b[0mpandas\u001b[0m \u001b[0;32mas\u001b[0m \u001b[0mpd\u001b[0m\u001b[0;34m\u001b[0m\u001b[0;34m\u001b[0m\u001b[0m\n\u001b[1;32m      3\u001b[0m \u001b[0;32mimport\u001b[0m \u001b[0mnumpy\u001b[0m \u001b[0;32mas\u001b[0m \u001b[0mnp\u001b[0m\u001b[0;34m\u001b[0m\u001b[0;34m\u001b[0m\u001b[0m\n\u001b[1;32m      4\u001b[0m \u001b[0;32mimport\u001b[0m \u001b[0mmatplotlib\u001b[0m\u001b[0;34m.\u001b[0m\u001b[0mpyplot\u001b[0m \u001b[0;32mas\u001b[0m \u001b[0mplt\u001b[0m\u001b[0;34m\u001b[0m\u001b[0;34m\u001b[0m\u001b[0m\n\u001b[1;32m      5\u001b[0m \u001b[0;32mimport\u001b[0m \u001b[0mmatplotlib\u001b[0m\u001b[0;34m.\u001b[0m\u001b[0mcolors\u001b[0m \u001b[0;32mas\u001b[0m \u001b[0mmcolors\u001b[0m\u001b[0;34m\u001b[0m\u001b[0;34m\u001b[0m\u001b[0m\n",
      "\u001b[0;31mModuleNotFoundError\u001b[0m: No module named 'pyodbc'"
     ]
    }
   ],
   "source": [
    "import pyodbc\n",
    "import pandas as pd\n",
    "import numpy as np\n",
    "import matplotlib.pyplot as plt\n",
    "import matplotlib.colors as mcolors"
   ]
  },
  {
   "cell_type": "code",
   "execution_count": null,
   "id": "7a935203",
   "metadata": {},
   "outputs": [],
   "source": [
    "server = 'mmm-adf-optimization.database.windows.net, 1433' \n",
    "database = 'airbnb' \n",
    "username = 'adfsa' \n",
    "password = 'R0ck&R0ll' \n",
    "\n",
    "cnxn = pyodbc.connect('DRIVER={ODBC Driver 17 for SQL Server};SERVER='+server+';DATABASE='+database+';UID='+username+';PWD='+ password)\n",
    "cursor = cnxn.cursor()"
   ]
  },
  {
   "cell_type": "code",
   "execution_count": null,
   "id": "2e7e3593",
   "metadata": {},
   "outputs": [],
   "source": [
    "sql = '''\n",
    "create view airbnb_cleaned\n",
    "as\n",
    "select \n",
    "l.[listing_id] as id, \n",
    "l.[name] as name, \n",
    "l.[host_id] as host_id,  \n",
    "h.[host_name_primary] as host_name_primary, \n",
    "h.[host_name_secondary] as host_name_secondary, \n",
    "n.[neighbourhood] as neighbourhood,\n",
    "loc.[location_id], \n",
    "loc.[latitude], \n",
    "loc.[longitude], \n",
    "room.room_type,\n",
    "l.[price], \n",
    "l.[minimum_nights], \n",
    "r.[number_of_reviews], \n",
    "r.[last_review], \n",
    "r.[reviews_per_month],\n",
    "h.[calculated_host_listings_count],\n",
    "l.[availability_365], \n",
    "l.[quality_minimum_nights_long],\n",
    "l.quality_availability_365,\n",
    "l.quality_price_outlier,\n",
    "r.quality_last_review_ismissing,\n",
    "r.quality_reviews_per_month_ismissing,\n",
    "r.quality_num_missing\n",
    "\n",
    "from [dbo].[listing] l\n",
    "INNER JOIN host h on h.host_id = l.host_id\n",
    "INNER JOIN location loc on loc.[location_id] = l.location_id\n",
    "INNER JOIN neighbourhood n on n.neighbourhood_id = loc.neighbourhood_id\n",
    "INNER JOIN review_summary r on r.listing_id = l.listing_id\n",
    "INNER JOIN room_type room on room.room_type_id = l.room_type_id\n",
    "\n",
    "'''"
   ]
  },
  {
   "cell_type": "code",
   "execution_count": null,
   "id": "3d216fab",
   "metadata": {},
   "outputs": [],
   "source": [
    "cnxn.execute(sql)\n",
    "\n",
    "cnxn.commit()"
   ]
  },
  {
   "cell_type": "code",
   "execution_count": null,
   "id": "05c1a7da",
   "metadata": {},
   "outputs": [],
   "source": [
    "sql = '''\n",
    "select neighbourhood, AVG(price) as avg_price\n",
    "from airbnb_cleaned\n",
    "group by\n",
    "neighbourhood\n",
    "order by\n",
    "avg_price desc\n",
    "'''"
   ]
  },
  {
   "cell_type": "code",
   "execution_count": null,
   "id": "3765b0e9",
   "metadata": {},
   "outputs": [],
   "source": [
    "sql_query = pd.read_sql_query(sql,cnxn) # here, the 'conn' is the variable that contains your database connection information from step 2\n",
    "\n",
    "df_uncleaned = pd.DataFrame(sql_query)"
   ]
  },
  {
   "cell_type": "code",
   "execution_count": null,
   "id": "c05b016a",
   "metadata": {},
   "outputs": [],
   "source": [
    "df_uncleaned"
   ]
  },
  {
   "cell_type": "code",
   "execution_count": null,
   "id": "6c23bb9e",
   "metadata": {},
   "outputs": [],
   "source": [
    "sql = '''\n",
    "select neighbourhood, AVG(price) as avg_price\n",
    "from airbnb_cleaned\n",
    "where\n",
    "quality_last_review_ismissing = 0 and\n",
    "quality_reviews_per_month_ismissing = 0\n",
    "group by\n",
    "neighbourhood\n",
    "order by\n",
    "avg_price desc\n",
    "'''"
   ]
  },
  {
   "cell_type": "code",
   "execution_count": null,
   "id": "e8e034bf",
   "metadata": {},
   "outputs": [],
   "source": [
    "sql_query = pd.read_sql_query(sql,cnxn) # here, the 'conn' is the variable that contains your database connection information from step 2\n",
    "\n",
    "df_filtered = pd.DataFrame(sql_query)\n",
    "df_filtered.to_csv ('analysis_filtered.csv', index = False)"
   ]
  },
  {
   "cell_type": "code",
   "execution_count": null,
   "id": "dc0ed6c1",
   "metadata": {},
   "outputs": [],
   "source": [
    "df_filtered"
   ]
  },
  {
   "cell_type": "code",
   "execution_count": null,
   "id": "8c8a1a2c",
   "metadata": {},
   "outputs": [],
   "source": [
    "sql = '''\n",
    "select neighbourhood, AVG(price) as avg_price\n",
    "from airbnb_cleaned\n",
    "where\n",
    "quality_price_outlier = 0 and\n",
    "quality_last_review_ismissing = 0 and\n",
    "quality_reviews_per_month_ismissing = 0\n",
    "group by\n",
    "neighbourhood\n",
    "order by\n",
    "avg_price desc\n",
    "'''"
   ]
  },
  {
   "cell_type": "code",
   "execution_count": null,
   "id": "a1e0e220",
   "metadata": {},
   "outputs": [],
   "source": [
    "sql_query = pd.read_sql_query(sql,cnxn) # here, the 'conn' is the variable that contains your database connection information from step 2\n",
    "\n",
    "df_filtered_no_price_outliers = pd.DataFrame(sql_query)\n",
    "df_filtered_no_price_outliers.to_csv ('analysis_filtered_no_price_outliers.csv', index = False)"
   ]
  },
  {
   "cell_type": "code",
   "execution_count": null,
   "id": "9ac5e4d5",
   "metadata": {},
   "outputs": [],
   "source": [
    "df_filtered_no_price_outliers"
   ]
  },
  {
   "cell_type": "code",
   "execution_count": null,
   "id": "b83e8d37",
   "metadata": {},
   "outputs": [],
   "source": [
    "New_Colors = mcolors.TABLEAU_COLORS\n",
    "from pylab import rcParams\n",
    "rcParams['figure.figsize'] = 20, 5\n",
    "\n",
    "plt.bar(df_uncleaned['neighbourhood'].head(10), df_uncleaned['avg_price'].head(10) , color=New_Colors)\n",
    "plt.title('Top 10 ncleaned Neighbourhood Vs Average Price', fontsize=14)\n",
    "plt.xlabel('Neighbourhood', fontsize=14)\n",
    "plt.ylabel('Average Price', fontsize=14)\n",
    "plt.grid(False)\n",
    "plt.show()"
   ]
  },
  {
   "cell_type": "code",
   "execution_count": null,
   "id": "7f8c4b4e",
   "metadata": {},
   "outputs": [],
   "source": [
    "New_Colors = mcolors.TABLEAU_COLORS\n",
    "from pylab import rcParams\n",
    "rcParams['figure.figsize'] = 20, 5\n",
    "\n",
    "plt.bar(df_filtered['neighbourhood'].head(10), df_filtered['avg_price'].head(10) , color=New_Colors)\n",
    "plt.title('Top 10: Filtered Neighbourhood Vs Average Price', fontsize=14)\n",
    "plt.xlabel('Neighbourhood', fontsize=14)\n",
    "plt.ylabel('Average Price', fontsize=14)\n",
    "plt.grid(False)\n",
    "plt.show()"
   ]
  },
  {
   "cell_type": "code",
   "execution_count": null,
   "id": "e5dc2455",
   "metadata": {},
   "outputs": [],
   "source": [
    "New_Colors = mcolors.TABLEAU_COLORS\n",
    "from pylab import rcParams\n",
    "rcParams['figure.figsize'] = 20, 5\n",
    "\n",
    "plt.bar(df_filtered_no_price_outliers['neighbourhood'].head(10), df_filtered_no_price_outliers['avg_price'].head(10) , color=New_Colors)\n",
    "plt.title('Top 10: No Price Outliers & Filtered on Quality: Neighbourhood Vs Average Price', fontsize=14)\n",
    "plt.xlabel('Neighbourhood', fontsize=14)\n",
    "plt.ylabel('Average Price', fontsize=14)\n",
    "plt.grid(False)\n",
    "plt.show()"
   ]
  },
  {
   "cell_type": "code",
   "execution_count": null,
   "id": "40631c56",
   "metadata": {},
   "outputs": [],
   "source": []
  },
  {
   "cell_type": "code",
   "execution_count": null,
   "id": "64efa622",
   "metadata": {},
   "outputs": [],
   "source": []
  }
 ],
 "metadata": {
  "kernel_info": {
   "name": "python38-azureml"
  },
  "kernelspec": {
   "display_name": "Python 3.8 - AzureML",
   "language": "python",
   "name": "python38-azureml"
  },
  "language_info": {
   "codemirror_mode": {
    "name": "ipython",
    "version": 3
   },
   "file_extension": ".py",
   "mimetype": "text/x-python",
   "name": "python",
   "nbconvert_exporter": "python",
   "pygments_lexer": "ipython3",
   "version": "3.8.1"
  },
  "nteract": {
   "version": "nteract-front-end@1.0.0"
  }
 },
 "nbformat": 4,
 "nbformat_minor": 5
}
